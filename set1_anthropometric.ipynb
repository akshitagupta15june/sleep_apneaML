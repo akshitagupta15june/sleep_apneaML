{
  "nbformat": 4,
  "nbformat_minor": 0,
  "metadata": {
    "colab": {
      "name": "adarsh.ipynb",
      "provenance": [],
      "include_colab_link": true
    },
    "kernelspec": {
      "name": "python3",
      "display_name": "Python 3"
    }
  },
  "cells": [
    {
      "cell_type": "markdown",
      "metadata": {
        "id": "view-in-github",
        "colab_type": "text"
      },
      "source": [
        "<a href=\"https://colab.research.google.com/github/akshitagupta15june/sleep_apneaML/blob/master/adarsh.ipynb\" target=\"_parent\"><img src=\"https://colab.research.google.com/assets/colab-badge.svg\" alt=\"Open In Colab\"/></a>"
      ]
    },
    {
      "cell_type": "code",
      "metadata": {
        "id": "2un4uGHPXY5X",
        "colab_type": "code",
        "colab": {}
      },
      "source": [
        "from tensorflow import keras\n",
        "import sklearn\n",
        "import numpy as np\n",
        "import pandas as pd\n",
        "from tensorflow.keras.layers import Dense,Dropout,LSTM\n",
        "from tensorflow.keras.models import Sequential\n",
        "from google.colab import files\n",
        "#uploaded = files.upload()"
      ],
      "execution_count": 6,
      "outputs": []
    },
    {
      "cell_type": "code",
      "metadata": {
        "id": "jGN2CZiyXnEY",
        "colab_type": "code",
        "colab": {}
      },
      "source": [
        "df='sleeep_apnea_data.xlsx'\n",
        "main_df=pd.read_excel(df,'male')"
      ],
      "execution_count": 10,
      "outputs": []
    },
    {
      "cell_type": "markdown",
      "metadata": {
        "id": "sNOODRDF-sM3",
        "colab_type": "text"
      },
      "source": [
        "# New Section"
      ]
    },
    {
      "cell_type": "code",
      "metadata": {
        "id": "HzEcjvoSZA2w",
        "colab_type": "code",
        "colab": {}
      },
      "source": [
        ""
      ],
      "execution_count": 11,
      "outputs": []
    },
    {
      "cell_type": "code",
      "metadata": {
        "id": "jForVaJEbO2L",
        "colab_type": "code",
        "colab": {}
      },
      "source": [
        "#df=sklearn.utils.shuffle(main_df)\n",
        "df=main_df.sample(frac=1).reset_index(drop=True)\n",
        "df.dropna(inplace=True)\n"
      ],
      "execution_count": 12,
      "outputs": []
    },
    {
      "cell_type": "code",
      "metadata": {
        "id": "W9jExHuEkbwI",
        "colab_type": "code",
        "colab": {}
      },
      "source": [
        "from sklearn.preprocessing import LabelEncoder\n",
        "le=LabelEncoder()"
      ],
      "execution_count": 13,
      "outputs": []
    },
    {
      "cell_type": "code",
      "metadata": {
        "id": "RfFAhoUCkx_K",
        "colab_type": "code",
        "colab": {}
      },
      "source": [
        "df.Gender=le.fit_transform(df.Gender)"
      ],
      "execution_count": 15,
      "outputs": []
    },
    {
      "cell_type": "code",
      "metadata": {
        "id": "FEvEo8Uj4z0N",
        "colab_type": "code",
        "colab": {}
      },
      "source": [
        "def fun(num): \n",
        "  \n",
        "    if num<=30: \n",
        "        return 0\n",
        "    else: \n",
        "        return 1"
      ],
      "execution_count": 16,
      "outputs": []
    },
    {
      "cell_type": "code",
      "metadata": {
        "id": "X6kyBgz-lDzm",
        "colab_type": "code",
        "colab": {}
      },
      "source": [
        "df['status']=df.AHI.apply(fun)\n",
        "status=[\"negative\",\"positive\"]"
      ],
      "execution_count": 17,
      "outputs": []
    },
    {
      "cell_type": "code",
      "metadata": {
        "id": "3NmJ0XqY5KgV",
        "colab_type": "code",
        "colab": {
          "base_uri": "https://localhost:8080/",
          "height": 424
        },
        "outputId": "01b4ad4d-69c6-4e85-ca69-338860700261"
      },
      "source": [
        "df"
      ],
      "execution_count": 18,
      "outputs": [
        {
          "output_type": "execute_result",
          "data": {
            "text/html": [
              "<div>\n",
              "<style scoped>\n",
              "    .dataframe tbody tr th:only-of-type {\n",
              "        vertical-align: middle;\n",
              "    }\n",
              "\n",
              "    .dataframe tbody tr th {\n",
              "        vertical-align: top;\n",
              "    }\n",
              "\n",
              "    .dataframe thead th {\n",
              "        text-align: right;\n",
              "    }\n",
              "</style>\n",
              "<table border=\"1\" class=\"dataframe\">\n",
              "  <thead>\n",
              "    <tr style=\"text-align: right;\">\n",
              "      <th></th>\n",
              "      <th>Gender</th>\n",
              "      <th>BQ</th>\n",
              "      <th>ESS</th>\n",
              "      <th>BMI</th>\n",
              "      <th>Weight</th>\n",
              "      <th>Height</th>\n",
              "      <th>Head</th>\n",
              "      <th>Neck</th>\n",
              "      <th>Waist</th>\n",
              "      <th>Buttock</th>\n",
              "      <th>Age</th>\n",
              "      <th>AHI</th>\n",
              "      <th>status</th>\n",
              "    </tr>\n",
              "  </thead>\n",
              "  <tbody>\n",
              "    <tr>\n",
              "      <th>0</th>\n",
              "      <td>1</td>\n",
              "      <td>0.0</td>\n",
              "      <td>5.0</td>\n",
              "      <td>21.469150</td>\n",
              "      <td>65.0</td>\n",
              "      <td>174.0</td>\n",
              "      <td>57.0</td>\n",
              "      <td>38.5</td>\n",
              "      <td>84.0</td>\n",
              "      <td>93.5</td>\n",
              "      <td>55.0</td>\n",
              "      <td>4.897959</td>\n",
              "      <td>0</td>\n",
              "    </tr>\n",
              "    <tr>\n",
              "      <th>1</th>\n",
              "      <td>0</td>\n",
              "      <td>1.0</td>\n",
              "      <td>16.0</td>\n",
              "      <td>21.644121</td>\n",
              "      <td>52.0</td>\n",
              "      <td>155.0</td>\n",
              "      <td>52.0</td>\n",
              "      <td>34.0</td>\n",
              "      <td>74.0</td>\n",
              "      <td>90.0</td>\n",
              "      <td>68.0</td>\n",
              "      <td>14.830000</td>\n",
              "      <td>0</td>\n",
              "    </tr>\n",
              "    <tr>\n",
              "      <th>2</th>\n",
              "      <td>1</td>\n",
              "      <td>0.0</td>\n",
              "      <td>11.0</td>\n",
              "      <td>32.238501</td>\n",
              "      <td>101.0</td>\n",
              "      <td>177.0</td>\n",
              "      <td>59.0</td>\n",
              "      <td>43.0</td>\n",
              "      <td>105.0</td>\n",
              "      <td>112.0</td>\n",
              "      <td>33.0</td>\n",
              "      <td>68.297872</td>\n",
              "      <td>1</td>\n",
              "    </tr>\n",
              "    <tr>\n",
              "      <th>3</th>\n",
              "      <td>0</td>\n",
              "      <td>0.0</td>\n",
              "      <td>13.0</td>\n",
              "      <td>18.662015</td>\n",
              "      <td>46.0</td>\n",
              "      <td>157.0</td>\n",
              "      <td>52.5</td>\n",
              "      <td>29.3</td>\n",
              "      <td>62.0</td>\n",
              "      <td>83.5</td>\n",
              "      <td>37.0</td>\n",
              "      <td>2.540000</td>\n",
              "      <td>0</td>\n",
              "    </tr>\n",
              "    <tr>\n",
              "      <th>4</th>\n",
              "      <td>1</td>\n",
              "      <td>0.0</td>\n",
              "      <td>13.0</td>\n",
              "      <td>23.120624</td>\n",
              "      <td>70.0</td>\n",
              "      <td>174.0</td>\n",
              "      <td>55.5</td>\n",
              "      <td>35.5</td>\n",
              "      <td>80.0</td>\n",
              "      <td>93.0</td>\n",
              "      <td>41.0</td>\n",
              "      <td>77.804154</td>\n",
              "      <td>1</td>\n",
              "    </tr>\n",
              "    <tr>\n",
              "      <th>...</th>\n",
              "      <td>...</td>\n",
              "      <td>...</td>\n",
              "      <td>...</td>\n",
              "      <td>...</td>\n",
              "      <td>...</td>\n",
              "      <td>...</td>\n",
              "      <td>...</td>\n",
              "      <td>...</td>\n",
              "      <td>...</td>\n",
              "      <td>...</td>\n",
              "      <td>...</td>\n",
              "      <td>...</td>\n",
              "      <td>...</td>\n",
              "    </tr>\n",
              "    <tr>\n",
              "      <th>5240</th>\n",
              "      <td>1</td>\n",
              "      <td>1.0</td>\n",
              "      <td>18.0</td>\n",
              "      <td>27.990363</td>\n",
              "      <td>79.0</td>\n",
              "      <td>168.0</td>\n",
              "      <td>56.5</td>\n",
              "      <td>38.5</td>\n",
              "      <td>94.5</td>\n",
              "      <td>101.0</td>\n",
              "      <td>35.0</td>\n",
              "      <td>84.307692</td>\n",
              "      <td>1</td>\n",
              "    </tr>\n",
              "    <tr>\n",
              "      <th>5241</th>\n",
              "      <td>1</td>\n",
              "      <td>0.0</td>\n",
              "      <td>12.0</td>\n",
              "      <td>22.229062</td>\n",
              "      <td>65.0</td>\n",
              "      <td>171.0</td>\n",
              "      <td>55.2</td>\n",
              "      <td>34.0</td>\n",
              "      <td>72.7</td>\n",
              "      <td>88.3</td>\n",
              "      <td>23.0</td>\n",
              "      <td>0.346821</td>\n",
              "      <td>0</td>\n",
              "    </tr>\n",
              "    <tr>\n",
              "      <th>5242</th>\n",
              "      <td>1</td>\n",
              "      <td>0.0</td>\n",
              "      <td>14.0</td>\n",
              "      <td>28.240190</td>\n",
              "      <td>85.5</td>\n",
              "      <td>174.0</td>\n",
              "      <td>57.5</td>\n",
              "      <td>40.5</td>\n",
              "      <td>103.5</td>\n",
              "      <td>104.5</td>\n",
              "      <td>34.0</td>\n",
              "      <td>62.881356</td>\n",
              "      <td>1</td>\n",
              "    </tr>\n",
              "    <tr>\n",
              "      <th>5243</th>\n",
              "      <td>1</td>\n",
              "      <td>0.0</td>\n",
              "      <td>8.0</td>\n",
              "      <td>29.104369</td>\n",
              "      <td>80.2</td>\n",
              "      <td>166.0</td>\n",
              "      <td>54.0</td>\n",
              "      <td>38.5</td>\n",
              "      <td>94.0</td>\n",
              "      <td>104.0</td>\n",
              "      <td>59.0</td>\n",
              "      <td>9.911504</td>\n",
              "      <td>0</td>\n",
              "    </tr>\n",
              "    <tr>\n",
              "      <th>5244</th>\n",
              "      <td>0</td>\n",
              "      <td>0.0</td>\n",
              "      <td>7.0</td>\n",
              "      <td>17.799929</td>\n",
              "      <td>45.0</td>\n",
              "      <td>159.0</td>\n",
              "      <td>52.5</td>\n",
              "      <td>27.0</td>\n",
              "      <td>62.0</td>\n",
              "      <td>88.0</td>\n",
              "      <td>34.0</td>\n",
              "      <td>0.000000</td>\n",
              "      <td>0</td>\n",
              "    </tr>\n",
              "  </tbody>\n",
              "</table>\n",
              "<p>5241 rows × 13 columns</p>\n",
              "</div>"
            ],
            "text/plain": [
              "      Gender   BQ   ESS        BMI  ...  Buttock   Age        AHI  status\n",
              "0          1  0.0   5.0  21.469150  ...     93.5  55.0   4.897959       0\n",
              "1          0  1.0  16.0  21.644121  ...     90.0  68.0  14.830000       0\n",
              "2          1  0.0  11.0  32.238501  ...    112.0  33.0  68.297872       1\n",
              "3          0  0.0  13.0  18.662015  ...     83.5  37.0   2.540000       0\n",
              "4          1  0.0  13.0  23.120624  ...     93.0  41.0  77.804154       1\n",
              "...      ...  ...   ...        ...  ...      ...   ...        ...     ...\n",
              "5240       1  1.0  18.0  27.990363  ...    101.0  35.0  84.307692       1\n",
              "5241       1  0.0  12.0  22.229062  ...     88.3  23.0   0.346821       0\n",
              "5242       1  0.0  14.0  28.240190  ...    104.5  34.0  62.881356       1\n",
              "5243       1  0.0   8.0  29.104369  ...    104.0  59.0   9.911504       0\n",
              "5244       0  0.0   7.0  17.799929  ...     88.0  34.0   0.000000       0\n",
              "\n",
              "[5241 rows x 13 columns]"
            ]
          },
          "metadata": {
            "tags": []
          },
          "execution_count": 18
        }
      ]
    },
    {
      "cell_type": "code",
      "metadata": {
        "id": "KF5Qq7fuCu9g",
        "colab_type": "code",
        "colab": {}
      },
      "source": [
        "#column_maxes = df.max()\n",
        "#column_maxes.drop(['Gender'],inplace=True)\n",
        "#df_max = column_maxes.max()\n",
        "#normalized_df = df / df_max\n",
        "\n"
      ],
      "execution_count": 19,
      "outputs": []
    },
    {
      "cell_type": "code",
      "metadata": {
        "id": "HJy4ovDXFOrH",
        "colab_type": "code",
        "colab": {}
      },
      "source": [
        "df1=df.drop(['Gender','status'],1)"
      ],
      "execution_count": 20,
      "outputs": []
    },
    {
      "cell_type": "code",
      "metadata": {
        "id": "OcxQitdrC0hf",
        "colab_type": "code",
        "colab": {}
      },
      "source": [
        "df1['Gender']=df['Gender']\n",
        "df1[\"status\"]=df['status']"
      ],
      "execution_count": 21,
      "outputs": []
    },
    {
      "cell_type": "code",
      "metadata": {
        "id": "IC-v9XI6F4-y",
        "colab_type": "code",
        "colab": {
          "base_uri": "https://localhost:8080/",
          "height": 424
        },
        "outputId": "0f03813d-937f-46f6-f09d-1c0da057d3ab"
      },
      "source": [
        "df1"
      ],
      "execution_count": 22,
      "outputs": [
        {
          "output_type": "execute_result",
          "data": {
            "text/html": [
              "<div>\n",
              "<style scoped>\n",
              "    .dataframe tbody tr th:only-of-type {\n",
              "        vertical-align: middle;\n",
              "    }\n",
              "\n",
              "    .dataframe tbody tr th {\n",
              "        vertical-align: top;\n",
              "    }\n",
              "\n",
              "    .dataframe thead th {\n",
              "        text-align: right;\n",
              "    }\n",
              "</style>\n",
              "<table border=\"1\" class=\"dataframe\">\n",
              "  <thead>\n",
              "    <tr style=\"text-align: right;\">\n",
              "      <th></th>\n",
              "      <th>BQ</th>\n",
              "      <th>ESS</th>\n",
              "      <th>BMI</th>\n",
              "      <th>Weight</th>\n",
              "      <th>Height</th>\n",
              "      <th>Head</th>\n",
              "      <th>Neck</th>\n",
              "      <th>Waist</th>\n",
              "      <th>Buttock</th>\n",
              "      <th>Age</th>\n",
              "      <th>AHI</th>\n",
              "      <th>Gender</th>\n",
              "      <th>status</th>\n",
              "    </tr>\n",
              "  </thead>\n",
              "  <tbody>\n",
              "    <tr>\n",
              "      <th>0</th>\n",
              "      <td>0.0</td>\n",
              "      <td>5.0</td>\n",
              "      <td>21.469150</td>\n",
              "      <td>65.0</td>\n",
              "      <td>174.0</td>\n",
              "      <td>57.0</td>\n",
              "      <td>38.5</td>\n",
              "      <td>84.0</td>\n",
              "      <td>93.5</td>\n",
              "      <td>55.0</td>\n",
              "      <td>4.897959</td>\n",
              "      <td>1</td>\n",
              "      <td>0</td>\n",
              "    </tr>\n",
              "    <tr>\n",
              "      <th>1</th>\n",
              "      <td>1.0</td>\n",
              "      <td>16.0</td>\n",
              "      <td>21.644121</td>\n",
              "      <td>52.0</td>\n",
              "      <td>155.0</td>\n",
              "      <td>52.0</td>\n",
              "      <td>34.0</td>\n",
              "      <td>74.0</td>\n",
              "      <td>90.0</td>\n",
              "      <td>68.0</td>\n",
              "      <td>14.830000</td>\n",
              "      <td>0</td>\n",
              "      <td>0</td>\n",
              "    </tr>\n",
              "    <tr>\n",
              "      <th>2</th>\n",
              "      <td>0.0</td>\n",
              "      <td>11.0</td>\n",
              "      <td>32.238501</td>\n",
              "      <td>101.0</td>\n",
              "      <td>177.0</td>\n",
              "      <td>59.0</td>\n",
              "      <td>43.0</td>\n",
              "      <td>105.0</td>\n",
              "      <td>112.0</td>\n",
              "      <td>33.0</td>\n",
              "      <td>68.297872</td>\n",
              "      <td>1</td>\n",
              "      <td>1</td>\n",
              "    </tr>\n",
              "    <tr>\n",
              "      <th>3</th>\n",
              "      <td>0.0</td>\n",
              "      <td>13.0</td>\n",
              "      <td>18.662015</td>\n",
              "      <td>46.0</td>\n",
              "      <td>157.0</td>\n",
              "      <td>52.5</td>\n",
              "      <td>29.3</td>\n",
              "      <td>62.0</td>\n",
              "      <td>83.5</td>\n",
              "      <td>37.0</td>\n",
              "      <td>2.540000</td>\n",
              "      <td>0</td>\n",
              "      <td>0</td>\n",
              "    </tr>\n",
              "    <tr>\n",
              "      <th>4</th>\n",
              "      <td>0.0</td>\n",
              "      <td>13.0</td>\n",
              "      <td>23.120624</td>\n",
              "      <td>70.0</td>\n",
              "      <td>174.0</td>\n",
              "      <td>55.5</td>\n",
              "      <td>35.5</td>\n",
              "      <td>80.0</td>\n",
              "      <td>93.0</td>\n",
              "      <td>41.0</td>\n",
              "      <td>77.804154</td>\n",
              "      <td>1</td>\n",
              "      <td>1</td>\n",
              "    </tr>\n",
              "    <tr>\n",
              "      <th>...</th>\n",
              "      <td>...</td>\n",
              "      <td>...</td>\n",
              "      <td>...</td>\n",
              "      <td>...</td>\n",
              "      <td>...</td>\n",
              "      <td>...</td>\n",
              "      <td>...</td>\n",
              "      <td>...</td>\n",
              "      <td>...</td>\n",
              "      <td>...</td>\n",
              "      <td>...</td>\n",
              "      <td>...</td>\n",
              "      <td>...</td>\n",
              "    </tr>\n",
              "    <tr>\n",
              "      <th>5240</th>\n",
              "      <td>1.0</td>\n",
              "      <td>18.0</td>\n",
              "      <td>27.990363</td>\n",
              "      <td>79.0</td>\n",
              "      <td>168.0</td>\n",
              "      <td>56.5</td>\n",
              "      <td>38.5</td>\n",
              "      <td>94.5</td>\n",
              "      <td>101.0</td>\n",
              "      <td>35.0</td>\n",
              "      <td>84.307692</td>\n",
              "      <td>1</td>\n",
              "      <td>1</td>\n",
              "    </tr>\n",
              "    <tr>\n",
              "      <th>5241</th>\n",
              "      <td>0.0</td>\n",
              "      <td>12.0</td>\n",
              "      <td>22.229062</td>\n",
              "      <td>65.0</td>\n",
              "      <td>171.0</td>\n",
              "      <td>55.2</td>\n",
              "      <td>34.0</td>\n",
              "      <td>72.7</td>\n",
              "      <td>88.3</td>\n",
              "      <td>23.0</td>\n",
              "      <td>0.346821</td>\n",
              "      <td>1</td>\n",
              "      <td>0</td>\n",
              "    </tr>\n",
              "    <tr>\n",
              "      <th>5242</th>\n",
              "      <td>0.0</td>\n",
              "      <td>14.0</td>\n",
              "      <td>28.240190</td>\n",
              "      <td>85.5</td>\n",
              "      <td>174.0</td>\n",
              "      <td>57.5</td>\n",
              "      <td>40.5</td>\n",
              "      <td>103.5</td>\n",
              "      <td>104.5</td>\n",
              "      <td>34.0</td>\n",
              "      <td>62.881356</td>\n",
              "      <td>1</td>\n",
              "      <td>1</td>\n",
              "    </tr>\n",
              "    <tr>\n",
              "      <th>5243</th>\n",
              "      <td>0.0</td>\n",
              "      <td>8.0</td>\n",
              "      <td>29.104369</td>\n",
              "      <td>80.2</td>\n",
              "      <td>166.0</td>\n",
              "      <td>54.0</td>\n",
              "      <td>38.5</td>\n",
              "      <td>94.0</td>\n",
              "      <td>104.0</td>\n",
              "      <td>59.0</td>\n",
              "      <td>9.911504</td>\n",
              "      <td>1</td>\n",
              "      <td>0</td>\n",
              "    </tr>\n",
              "    <tr>\n",
              "      <th>5244</th>\n",
              "      <td>0.0</td>\n",
              "      <td>7.0</td>\n",
              "      <td>17.799929</td>\n",
              "      <td>45.0</td>\n",
              "      <td>159.0</td>\n",
              "      <td>52.5</td>\n",
              "      <td>27.0</td>\n",
              "      <td>62.0</td>\n",
              "      <td>88.0</td>\n",
              "      <td>34.0</td>\n",
              "      <td>0.000000</td>\n",
              "      <td>0</td>\n",
              "      <td>0</td>\n",
              "    </tr>\n",
              "  </tbody>\n",
              "</table>\n",
              "<p>5241 rows × 13 columns</p>\n",
              "</div>"
            ],
            "text/plain": [
              "       BQ   ESS        BMI  Weight  ...   Age        AHI  Gender  status\n",
              "0     0.0   5.0  21.469150    65.0  ...  55.0   4.897959       1       0\n",
              "1     1.0  16.0  21.644121    52.0  ...  68.0  14.830000       0       0\n",
              "2     0.0  11.0  32.238501   101.0  ...  33.0  68.297872       1       1\n",
              "3     0.0  13.0  18.662015    46.0  ...  37.0   2.540000       0       0\n",
              "4     0.0  13.0  23.120624    70.0  ...  41.0  77.804154       1       1\n",
              "...   ...   ...        ...     ...  ...   ...        ...     ...     ...\n",
              "5240  1.0  18.0  27.990363    79.0  ...  35.0  84.307692       1       1\n",
              "5241  0.0  12.0  22.229062    65.0  ...  23.0   0.346821       1       0\n",
              "5242  0.0  14.0  28.240190    85.5  ...  34.0  62.881356       1       1\n",
              "5243  0.0   8.0  29.104369    80.2  ...  59.0   9.911504       1       0\n",
              "5244  0.0   7.0  17.799929    45.0  ...  34.0   0.000000       0       0\n",
              "\n",
              "[5241 rows x 13 columns]"
            ]
          },
          "metadata": {
            "tags": []
          },
          "execution_count": 22
        }
      ]
    },
    {
      "cell_type": "code",
      "metadata": {
        "id": "u47ck_J1e2gJ",
        "colab_type": "code",
        "colab": {}
      },
      "source": [
        "x=np.array(df1.drop(['AHI',\"status\"],1))\n",
        "y=np.array(df1['status'])"
      ],
      "execution_count": 23,
      "outputs": []
    },
    {
      "cell_type": "code",
      "metadata": {
        "id": "rWJ6cTFVcnQL",
        "colab_type": "code",
        "colab": {}
      },
      "source": [
        "from sklearn.model_selection import train_test_split\n",
        "x_train,x_test,y_train,y_test=train_test_split(x,y,test_size=0.20)"
      ],
      "execution_count": 28,
      "outputs": []
    },
    {
      "cell_type": "code",
      "metadata": {
        "id": "ckaaWfNxWExd",
        "colab_type": "code",
        "colab": {}
      },
      "source": [
        ""
      ],
      "execution_count": 25,
      "outputs": []
    },
    {
      "cell_type": "code",
      "metadata": {
        "id": "AfyC0bCcfaMW",
        "colab_type": "code",
        "colab": {}
      },
      "source": [
        "from sklearn import linear_model,svm, tree\n",
        "from sklearn.linear_model import LogisticRegression,Ridge\n",
        "from sklearn.neighbors import KNeighborsClassifier\n",
        "from sklearn.tree import DecisionTreeRegressor"
      ],
      "execution_count": 30,
      "outputs": []
    },
    {
      "cell_type": "code",
      "metadata": {
        "id": "AbrXrSYphA7K",
        "colab_type": "code",
        "colab": {}
      },
      "source": [
        "model1= linear_model.LinearRegression(fit_intercept=True)\n",
        "svr_poly = svm.SVR(kernel='linear', C=100, gamma='auto', degree=3, epsilon=.1,coef0=1)\n",
        "dtree = DecisionTreeRegressor(max_depth=10, min_samples_leaf=0.13, random_state=3)\n",
        "sv=svm.SVC(C=10,kernel='linear')"
      ],
      "execution_count": 31,
      "outputs": []
    },
    {
      "cell_type": "code",
      "metadata": {
        "id": "IuaWGYNhhElt",
        "colab_type": "code",
        "colab": {
          "base_uri": "https://localhost:8080/",
          "height": 86
        },
        "outputId": "b68af288-f7be-46bc-c448-2c2cef4c1388"
      },
      "source": [
        "sv.fit(x_train,y_train)"
      ],
      "execution_count": 32,
      "outputs": [
        {
          "output_type": "execute_result",
          "data": {
            "text/plain": [
              "SVC(C=10, break_ties=False, cache_size=200, class_weight=None, coef0=0.0,\n",
              "    decision_function_shape='ovr', degree=3, gamma='scale', kernel='linear',\n",
              "    max_iter=-1, probability=False, random_state=None, shrinking=True,\n",
              "    tol=0.001, verbose=False)"
            ]
          },
          "metadata": {
            "tags": []
          },
          "execution_count": 32
        }
      ]
    },
    {
      "cell_type": "code",
      "metadata": {
        "id": "cJNJofhliKU7",
        "colab_type": "code",
        "colab": {}
      },
      "source": [
        "acc=sv.score(x_test,y_test)"
      ],
      "execution_count": 33,
      "outputs": []
    },
    {
      "cell_type": "code",
      "metadata": {
        "id": "YAb0J2ZTRWMe",
        "colab_type": "code",
        "colab": {
          "base_uri": "https://localhost:8080/",
          "height": 34
        },
        "outputId": "02909fca-8c03-4d0c-dd1d-ee02b53a0f48"
      },
      "source": [
        "acc"
      ],
      "execution_count": 50,
      "outputs": [
        {
          "output_type": "execute_result",
          "data": {
            "text/plain": [
              "0.7702573879885606"
            ]
          },
          "metadata": {
            "tags": []
          },
          "execution_count": 50
        }
      ]
    },
    {
      "cell_type": "code",
      "metadata": {
        "id": "FroceMhciWPG",
        "colab_type": "code",
        "colab": {}
      },
      "source": [
        "p1=sv.predict(x_test)"
      ],
      "execution_count": 35,
      "outputs": []
    },
    {
      "cell_type": "code",
      "metadata": {
        "id": "ndKzq3VLrN2m",
        "colab_type": "code",
        "colab": {}
      },
      "source": [
        "from tensorflow.keras.models import Sequential\n",
        "from tensorflow.keras.layers import Dense, Activation,Flatten,Dropout\n",
        "from tensorflow.keras.models import Model\n",
        "from tensorflow.keras.optimizers import Adam\n",
        "#from tensorflow.python.keras.layers.kernelized import RandomFourierFeatures\n",
        "from tensorflow.keras import layers\n"
      ],
      "execution_count": 37,
      "outputs": []
    },
    {
      "cell_type": "code",
      "metadata": {
        "id": "mapKTkQ_wzyq",
        "colab_type": "code",
        "colab": {
          "base_uri": "https://localhost:8080/",
          "height": 1000
        },
        "outputId": "cb0645f3-2e2d-4201-bd9d-d1aa11b2a0c1"
      },
      "source": [
        "model=Sequential()\n",
        "model.add(Dense(30,activation='relu',input_shape=[x_train.shape[1]]))\n",
        "model.add(Dropout(.02))\n",
        "model.add(Dense(10,activation='relu'))\n",
        "model.add(Dropout(.02))\n",
        "model.add(Dense(50,activation='relu'))\n",
        "#model.add(Dense(50,activation='relu'))\n",
        "\n",
        "model.add(Dense(1,activation='sigmoid'))\n",
        "model.compile(Adam(lr=0.01),loss='binary_crossentropy',metrics=['accuracy'])\n",
        "model.fit(x_train,y_train,epochs=100,validation_split=0.2)"
      ],
      "execution_count": 56,
      "outputs": [
        {
          "output_type": "stream",
          "text": [
            "Epoch 1/100\n",
            "105/105 [==============================] - 0s 3ms/step - loss: 0.6935 - accuracy: 0.6612 - val_loss: 0.5078 - val_accuracy: 0.7676\n",
            "Epoch 2/100\n",
            "105/105 [==============================] - 0s 2ms/step - loss: 0.5353 - accuracy: 0.7274 - val_loss: 0.4907 - val_accuracy: 0.7628\n",
            "Epoch 3/100\n",
            "105/105 [==============================] - 0s 2ms/step - loss: 0.5337 - accuracy: 0.7325 - val_loss: 0.5143 - val_accuracy: 0.7557\n",
            "Epoch 4/100\n",
            "105/105 [==============================] - 0s 2ms/step - loss: 0.5096 - accuracy: 0.7411 - val_loss: 0.5286 - val_accuracy: 0.7366\n",
            "Epoch 5/100\n",
            "105/105 [==============================] - 0s 2ms/step - loss: 0.5198 - accuracy: 0.7334 - val_loss: 0.5056 - val_accuracy: 0.7592\n",
            "Epoch 6/100\n",
            "105/105 [==============================] - 0s 2ms/step - loss: 0.5127 - accuracy: 0.7456 - val_loss: 0.4895 - val_accuracy: 0.7640\n",
            "Epoch 7/100\n",
            "105/105 [==============================] - 0s 2ms/step - loss: 0.5008 - accuracy: 0.7444 - val_loss: 0.4843 - val_accuracy: 0.7783\n",
            "Epoch 8/100\n",
            "105/105 [==============================] - 0s 2ms/step - loss: 0.5056 - accuracy: 0.7566 - val_loss: 0.4956 - val_accuracy: 0.7580\n",
            "Epoch 9/100\n",
            "105/105 [==============================] - 0s 2ms/step - loss: 0.4917 - accuracy: 0.7602 - val_loss: 0.4975 - val_accuracy: 0.7616\n",
            "Epoch 10/100\n",
            "105/105 [==============================] - 0s 2ms/step - loss: 0.4900 - accuracy: 0.7659 - val_loss: 0.4887 - val_accuracy: 0.7700\n",
            "Epoch 11/100\n",
            "105/105 [==============================] - 0s 2ms/step - loss: 0.5009 - accuracy: 0.7590 - val_loss: 0.4900 - val_accuracy: 0.7700\n",
            "Epoch 12/100\n",
            "105/105 [==============================] - 0s 2ms/step - loss: 0.4859 - accuracy: 0.7674 - val_loss: 0.4755 - val_accuracy: 0.7735\n",
            "Epoch 13/100\n",
            "105/105 [==============================] - 0s 2ms/step - loss: 0.4935 - accuracy: 0.7548 - val_loss: 0.6147 - val_accuracy: 0.6591\n",
            "Epoch 14/100\n",
            "105/105 [==============================] - 0s 2ms/step - loss: 0.4980 - accuracy: 0.7525 - val_loss: 0.4822 - val_accuracy: 0.7783\n",
            "Epoch 15/100\n",
            "105/105 [==============================] - 0s 2ms/step - loss: 0.4902 - accuracy: 0.7620 - val_loss: 0.4702 - val_accuracy: 0.7783\n",
            "Epoch 16/100\n",
            "105/105 [==============================] - 0s 2ms/step - loss: 0.4891 - accuracy: 0.7635 - val_loss: 0.5312 - val_accuracy: 0.7128\n",
            "Epoch 17/100\n",
            "105/105 [==============================] - 0s 2ms/step - loss: 0.4949 - accuracy: 0.7519 - val_loss: 0.4870 - val_accuracy: 0.7640\n",
            "Epoch 18/100\n",
            "105/105 [==============================] - 0s 2ms/step - loss: 0.4894 - accuracy: 0.7614 - val_loss: 0.5038 - val_accuracy: 0.7521\n",
            "Epoch 19/100\n",
            "105/105 [==============================] - 0s 2ms/step - loss: 0.4825 - accuracy: 0.7644 - val_loss: 0.4814 - val_accuracy: 0.7747\n",
            "Epoch 20/100\n",
            "105/105 [==============================] - 0s 2ms/step - loss: 0.4857 - accuracy: 0.7635 - val_loss: 0.4858 - val_accuracy: 0.7628\n",
            "Epoch 21/100\n",
            "105/105 [==============================] - 0s 2ms/step - loss: 0.4968 - accuracy: 0.7525 - val_loss: 0.4826 - val_accuracy: 0.7688\n",
            "Epoch 22/100\n",
            "105/105 [==============================] - 0s 2ms/step - loss: 0.4854 - accuracy: 0.7557 - val_loss: 0.4699 - val_accuracy: 0.7771\n",
            "Epoch 23/100\n",
            "105/105 [==============================] - 0s 2ms/step - loss: 0.4777 - accuracy: 0.7668 - val_loss: 0.4821 - val_accuracy: 0.7747\n",
            "Epoch 24/100\n",
            "105/105 [==============================] - 0s 2ms/step - loss: 0.4900 - accuracy: 0.7537 - val_loss: 0.4704 - val_accuracy: 0.7747\n",
            "Epoch 25/100\n",
            "105/105 [==============================] - 0s 2ms/step - loss: 0.4819 - accuracy: 0.7581 - val_loss: 0.4716 - val_accuracy: 0.7795\n",
            "Epoch 26/100\n",
            "105/105 [==============================] - 0s 2ms/step - loss: 0.4787 - accuracy: 0.7662 - val_loss: 0.5303 - val_accuracy: 0.7020\n",
            "Epoch 27/100\n",
            "105/105 [==============================] - 0s 2ms/step - loss: 0.4840 - accuracy: 0.7605 - val_loss: 0.4790 - val_accuracy: 0.7783\n",
            "Epoch 28/100\n",
            "105/105 [==============================] - 0s 2ms/step - loss: 0.4902 - accuracy: 0.7611 - val_loss: 0.5185 - val_accuracy: 0.7747\n",
            "Epoch 29/100\n",
            "105/105 [==============================] - 0s 2ms/step - loss: 0.4959 - accuracy: 0.7587 - val_loss: 0.4748 - val_accuracy: 0.7735\n",
            "Epoch 30/100\n",
            "105/105 [==============================] - 0s 2ms/step - loss: 0.4783 - accuracy: 0.7575 - val_loss: 0.4821 - val_accuracy: 0.7747\n",
            "Epoch 31/100\n",
            "105/105 [==============================] - 0s 2ms/step - loss: 0.4832 - accuracy: 0.7635 - val_loss: 0.5389 - val_accuracy: 0.7497\n",
            "Epoch 32/100\n",
            "105/105 [==============================] - 0s 4ms/step - loss: 0.4749 - accuracy: 0.7677 - val_loss: 0.4877 - val_accuracy: 0.7795\n",
            "Epoch 33/100\n",
            "105/105 [==============================] - 0s 2ms/step - loss: 0.4993 - accuracy: 0.7525 - val_loss: 0.4923 - val_accuracy: 0.7723\n",
            "Epoch 34/100\n",
            "105/105 [==============================] - 0s 2ms/step - loss: 0.4753 - accuracy: 0.7605 - val_loss: 0.4923 - val_accuracy: 0.7759\n",
            "Epoch 35/100\n",
            "105/105 [==============================] - 0s 2ms/step - loss: 0.4766 - accuracy: 0.7626 - val_loss: 0.4849 - val_accuracy: 0.7723\n",
            "Epoch 36/100\n",
            "105/105 [==============================] - 0s 2ms/step - loss: 0.4820 - accuracy: 0.7593 - val_loss: 0.4780 - val_accuracy: 0.7747\n",
            "Epoch 37/100\n",
            "105/105 [==============================] - 0s 2ms/step - loss: 0.4810 - accuracy: 0.7608 - val_loss: 0.4806 - val_accuracy: 0.7640\n",
            "Epoch 38/100\n",
            "105/105 [==============================] - 0s 2ms/step - loss: 0.4800 - accuracy: 0.7635 - val_loss: 0.4822 - val_accuracy: 0.7712\n",
            "Epoch 39/100\n",
            "105/105 [==============================] - 0s 2ms/step - loss: 0.4731 - accuracy: 0.7668 - val_loss: 0.4852 - val_accuracy: 0.7783\n",
            "Epoch 40/100\n",
            "105/105 [==============================] - 0s 2ms/step - loss: 0.4777 - accuracy: 0.7701 - val_loss: 0.4782 - val_accuracy: 0.7700\n",
            "Epoch 41/100\n",
            "105/105 [==============================] - 0s 2ms/step - loss: 0.4880 - accuracy: 0.7650 - val_loss: 0.4954 - val_accuracy: 0.7569\n",
            "Epoch 42/100\n",
            "105/105 [==============================] - 0s 2ms/step - loss: 0.4788 - accuracy: 0.7704 - val_loss: 0.5025 - val_accuracy: 0.7700\n",
            "Epoch 43/100\n",
            "105/105 [==============================] - 0s 2ms/step - loss: 0.4878 - accuracy: 0.7611 - val_loss: 0.5375 - val_accuracy: 0.7223\n",
            "Epoch 44/100\n",
            "105/105 [==============================] - 0s 2ms/step - loss: 0.4904 - accuracy: 0.7602 - val_loss: 0.5314 - val_accuracy: 0.7354\n",
            "Epoch 45/100\n",
            "105/105 [==============================] - 0s 2ms/step - loss: 0.4787 - accuracy: 0.7647 - val_loss: 0.5059 - val_accuracy: 0.7652\n",
            "Epoch 46/100\n",
            "105/105 [==============================] - 0s 2ms/step - loss: 0.4829 - accuracy: 0.7608 - val_loss: 0.4948 - val_accuracy: 0.7604\n",
            "Epoch 47/100\n",
            "105/105 [==============================] - 0s 3ms/step - loss: 0.4846 - accuracy: 0.7626 - val_loss: 0.4887 - val_accuracy: 0.7747\n",
            "Epoch 48/100\n",
            "105/105 [==============================] - 0s 2ms/step - loss: 0.4780 - accuracy: 0.7635 - val_loss: 0.5054 - val_accuracy: 0.7509\n",
            "Epoch 49/100\n",
            "105/105 [==============================] - 0s 2ms/step - loss: 0.4778 - accuracy: 0.7620 - val_loss: 0.4790 - val_accuracy: 0.7616\n",
            "Epoch 50/100\n",
            "105/105 [==============================] - 0s 2ms/step - loss: 0.4817 - accuracy: 0.7590 - val_loss: 0.4907 - val_accuracy: 0.7688\n",
            "Epoch 51/100\n",
            "105/105 [==============================] - 0s 2ms/step - loss: 0.4794 - accuracy: 0.7620 - val_loss: 0.4950 - val_accuracy: 0.7628\n",
            "Epoch 52/100\n",
            "105/105 [==============================] - 0s 2ms/step - loss: 0.4816 - accuracy: 0.7659 - val_loss: 0.4965 - val_accuracy: 0.7723\n",
            "Epoch 53/100\n",
            "105/105 [==============================] - 0s 2ms/step - loss: 0.4799 - accuracy: 0.7647 - val_loss: 0.5002 - val_accuracy: 0.7592\n",
            "Epoch 54/100\n",
            "105/105 [==============================] - 0s 2ms/step - loss: 0.4799 - accuracy: 0.7626 - val_loss: 0.4884 - val_accuracy: 0.7735\n",
            "Epoch 55/100\n",
            "105/105 [==============================] - 0s 2ms/step - loss: 0.4845 - accuracy: 0.7632 - val_loss: 0.4950 - val_accuracy: 0.7831\n",
            "Epoch 56/100\n",
            "105/105 [==============================] - 0s 2ms/step - loss: 0.4797 - accuracy: 0.7632 - val_loss: 0.4917 - val_accuracy: 0.7759\n",
            "Epoch 57/100\n",
            "105/105 [==============================] - 0s 2ms/step - loss: 0.4827 - accuracy: 0.7650 - val_loss: 0.5430 - val_accuracy: 0.7378\n",
            "Epoch 58/100\n",
            "105/105 [==============================] - 0s 2ms/step - loss: 0.4808 - accuracy: 0.7608 - val_loss: 0.5015 - val_accuracy: 0.7545\n",
            "Epoch 59/100\n",
            "105/105 [==============================] - 0s 2ms/step - loss: 0.4715 - accuracy: 0.7623 - val_loss: 0.5027 - val_accuracy: 0.7616\n",
            "Epoch 60/100\n",
            "105/105 [==============================] - 0s 2ms/step - loss: 0.4828 - accuracy: 0.7599 - val_loss: 0.5133 - val_accuracy: 0.7557\n",
            "Epoch 61/100\n",
            "105/105 [==============================] - 0s 2ms/step - loss: 0.4753 - accuracy: 0.7608 - val_loss: 0.5001 - val_accuracy: 0.7616\n",
            "Epoch 62/100\n",
            "105/105 [==============================] - 0s 2ms/step - loss: 0.4707 - accuracy: 0.7698 - val_loss: 0.5011 - val_accuracy: 0.7676\n",
            "Epoch 63/100\n",
            "105/105 [==============================] - 0s 2ms/step - loss: 0.4839 - accuracy: 0.7614 - val_loss: 0.5025 - val_accuracy: 0.7831\n",
            "Epoch 64/100\n",
            "105/105 [==============================] - 0s 2ms/step - loss: 0.4775 - accuracy: 0.7650 - val_loss: 0.5743 - val_accuracy: 0.6973\n",
            "Epoch 65/100\n",
            "105/105 [==============================] - 0s 2ms/step - loss: 0.4904 - accuracy: 0.7587 - val_loss: 0.5497 - val_accuracy: 0.7092\n",
            "Epoch 66/100\n",
            "105/105 [==============================] - 0s 2ms/step - loss: 0.4731 - accuracy: 0.7689 - val_loss: 0.5011 - val_accuracy: 0.7723\n",
            "Epoch 67/100\n",
            "105/105 [==============================] - 0s 2ms/step - loss: 0.4780 - accuracy: 0.7712 - val_loss: 0.5070 - val_accuracy: 0.7759\n",
            "Epoch 68/100\n",
            "105/105 [==============================] - 0s 2ms/step - loss: 0.4709 - accuracy: 0.7710 - val_loss: 0.4996 - val_accuracy: 0.7723\n",
            "Epoch 69/100\n",
            "105/105 [==============================] - 0s 2ms/step - loss: 0.4729 - accuracy: 0.7680 - val_loss: 0.5041 - val_accuracy: 0.7771\n",
            "Epoch 70/100\n",
            "105/105 [==============================] - 0s 2ms/step - loss: 0.4783 - accuracy: 0.7689 - val_loss: 0.5077 - val_accuracy: 0.7557\n",
            "Epoch 71/100\n",
            "105/105 [==============================] - 0s 2ms/step - loss: 0.4704 - accuracy: 0.7754 - val_loss: 0.4865 - val_accuracy: 0.7712\n",
            "Epoch 72/100\n",
            "105/105 [==============================] - 0s 2ms/step - loss: 0.4796 - accuracy: 0.7605 - val_loss: 0.5129 - val_accuracy: 0.7509\n",
            "Epoch 73/100\n",
            "105/105 [==============================] - 0s 2ms/step - loss: 0.4727 - accuracy: 0.7638 - val_loss: 0.5104 - val_accuracy: 0.7628\n",
            "Epoch 74/100\n",
            "105/105 [==============================] - 0s 2ms/step - loss: 0.4723 - accuracy: 0.7686 - val_loss: 0.4904 - val_accuracy: 0.7652\n",
            "Epoch 75/100\n",
            "105/105 [==============================] - 0s 2ms/step - loss: 0.4716 - accuracy: 0.7695 - val_loss: 0.4989 - val_accuracy: 0.7723\n",
            "Epoch 76/100\n",
            "105/105 [==============================] - 0s 2ms/step - loss: 0.4695 - accuracy: 0.7671 - val_loss: 0.5279 - val_accuracy: 0.7604\n",
            "Epoch 77/100\n",
            "105/105 [==============================] - 0s 2ms/step - loss: 0.4792 - accuracy: 0.7620 - val_loss: 0.5213 - val_accuracy: 0.7461\n",
            "Epoch 78/100\n",
            "105/105 [==============================] - 0s 2ms/step - loss: 0.4724 - accuracy: 0.7656 - val_loss: 0.4981 - val_accuracy: 0.7676\n",
            "Epoch 79/100\n",
            "105/105 [==============================] - 0s 2ms/step - loss: 0.4723 - accuracy: 0.7701 - val_loss: 0.6352 - val_accuracy: 0.7068\n",
            "Epoch 80/100\n",
            "105/105 [==============================] - 0s 2ms/step - loss: 0.4858 - accuracy: 0.7605 - val_loss: 0.5138 - val_accuracy: 0.7461\n",
            "Epoch 81/100\n",
            "105/105 [==============================] - 0s 2ms/step - loss: 0.4694 - accuracy: 0.7730 - val_loss: 0.4770 - val_accuracy: 0.7831\n",
            "Epoch 82/100\n",
            "105/105 [==============================] - 0s 2ms/step - loss: 0.4640 - accuracy: 0.7772 - val_loss: 0.5245 - val_accuracy: 0.7557\n",
            "Epoch 83/100\n",
            "105/105 [==============================] - 0s 2ms/step - loss: 0.4854 - accuracy: 0.7566 - val_loss: 0.5088 - val_accuracy: 0.7533\n",
            "Epoch 84/100\n",
            "105/105 [==============================] - 0s 2ms/step - loss: 0.4707 - accuracy: 0.7677 - val_loss: 0.5120 - val_accuracy: 0.7521\n",
            "Epoch 85/100\n",
            "105/105 [==============================] - 0s 2ms/step - loss: 0.4745 - accuracy: 0.7638 - val_loss: 0.4840 - val_accuracy: 0.7676\n",
            "Epoch 86/100\n",
            "105/105 [==============================] - 0s 2ms/step - loss: 0.4726 - accuracy: 0.7647 - val_loss: 0.5067 - val_accuracy: 0.7628\n",
            "Epoch 87/100\n",
            "105/105 [==============================] - 0s 2ms/step - loss: 0.4814 - accuracy: 0.7587 - val_loss: 0.5030 - val_accuracy: 0.7545\n",
            "Epoch 88/100\n",
            "105/105 [==============================] - 0s 2ms/step - loss: 0.4725 - accuracy: 0.7712 - val_loss: 0.4924 - val_accuracy: 0.7712\n",
            "Epoch 89/100\n",
            "105/105 [==============================] - 0s 2ms/step - loss: 0.4730 - accuracy: 0.7710 - val_loss: 0.4882 - val_accuracy: 0.7664\n",
            "Epoch 90/100\n",
            "105/105 [==============================] - 0s 2ms/step - loss: 0.4760 - accuracy: 0.7623 - val_loss: 0.4868 - val_accuracy: 0.7640\n",
            "Epoch 91/100\n",
            "105/105 [==============================] - 0s 2ms/step - loss: 0.4685 - accuracy: 0.7736 - val_loss: 0.4959 - val_accuracy: 0.7700\n",
            "Epoch 92/100\n",
            "105/105 [==============================] - 0s 2ms/step - loss: 0.4701 - accuracy: 0.7802 - val_loss: 0.5152 - val_accuracy: 0.7759\n",
            "Epoch 93/100\n",
            "105/105 [==============================] - 0s 2ms/step - loss: 0.4817 - accuracy: 0.7620 - val_loss: 0.5097 - val_accuracy: 0.7712\n",
            "Epoch 94/100\n",
            "105/105 [==============================] - 0s 2ms/step - loss: 0.4716 - accuracy: 0.7698 - val_loss: 0.5180 - val_accuracy: 0.7390\n",
            "Epoch 95/100\n",
            "105/105 [==============================] - 0s 2ms/step - loss: 0.4752 - accuracy: 0.7596 - val_loss: 0.4949 - val_accuracy: 0.7759\n",
            "Epoch 96/100\n",
            "105/105 [==============================] - 0s 2ms/step - loss: 0.4795 - accuracy: 0.7614 - val_loss: 0.4882 - val_accuracy: 0.7700\n",
            "Epoch 97/100\n",
            "105/105 [==============================] - 0s 2ms/step - loss: 0.4754 - accuracy: 0.7632 - val_loss: 0.4844 - val_accuracy: 0.7723\n",
            "Epoch 98/100\n",
            "105/105 [==============================] - 0s 2ms/step - loss: 0.4709 - accuracy: 0.7739 - val_loss: 0.4935 - val_accuracy: 0.7783\n",
            "Epoch 99/100\n",
            "105/105 [==============================] - 0s 2ms/step - loss: 0.4825 - accuracy: 0.7635 - val_loss: 0.5061 - val_accuracy: 0.7867\n",
            "Epoch 100/100\n",
            "105/105 [==============================] - 0s 2ms/step - loss: 0.4783 - accuracy: 0.7611 - val_loss: 0.4953 - val_accuracy: 0.7616\n"
          ],
          "name": "stdout"
        },
        {
          "output_type": "execute_result",
          "data": {
            "text/plain": [
              "<tensorflow.python.keras.callbacks.History at 0x7fa939af3668>"
            ]
          },
          "metadata": {
            "tags": []
          },
          "execution_count": 56
        }
      ]
    },
    {
      "cell_type": "code",
      "metadata": {
        "id": "r_fsmGskx3az",
        "colab_type": "code",
        "colab": {
          "base_uri": "https://localhost:8080/",
          "height": 34
        },
        "outputId": "59b263bc-fb40-43f2-8bfc-f4c33acd2769"
      },
      "source": [
        "model.predict([[  0.  ,   0.  ,  24.22,  70.  , 170.  ,  58.5 ,  42.  ,  92.5 ,\n",
        "        99.  ,  60.  ,   1. ]])\n"
      ],
      "execution_count": 40,
      "outputs": [
        {
          "output_type": "execute_result",
          "data": {
            "text/plain": [
              "array([[0.4385051]], dtype=float32)"
            ]
          },
          "metadata": {
            "tags": []
          },
          "execution_count": 40
        }
      ]
    },
    {
      "cell_type": "code",
      "metadata": {
        "id": "mqcvfnlDQnEJ",
        "colab_type": "code",
        "colab": {}
      },
      "source": [
        "p=model.predict(x_test)"
      ],
      "execution_count": 41,
      "outputs": []
    },
    {
      "cell_type": "code",
      "metadata": {
        "id": "9G-4mtkRU5NB",
        "colab_type": "code",
        "colab": {
          "base_uri": "https://localhost:8080/",
          "height": 34
        },
        "outputId": "0e6ae19f-5ecc-4f01-a002-3700703c4062"
      },
      "source": [
        "p[1047]"
      ],
      "execution_count": 42,
      "outputs": [
        {
          "output_type": "execute_result",
          "data": {
            "text/plain": [
              "array([0.4385051], dtype=float32)"
            ]
          },
          "metadata": {
            "tags": []
          },
          "execution_count": 42
        }
      ]
    },
    {
      "cell_type": "code",
      "metadata": {
        "id": "ieEGGIkt7LW6",
        "colab_type": "code",
        "colab": {
          "base_uri": "https://localhost:8080/",
          "height": 69
        },
        "outputId": "7081daf8-65c2-4ca2-9d8e-63adc3415015"
      },
      "source": [
        "x_test[9]"
      ],
      "execution_count": 43,
      "outputs": [
        {
          "output_type": "execute_result",
          "data": {
            "text/plain": [
              "array([  0.        ,   7.        ,  20.58377277,  48.5       ,\n",
              "       153.5       ,  55.        ,  30.        ,  71.        ,\n",
              "        88.        ,  62.        ,   0.        ])"
            ]
          },
          "metadata": {
            "tags": []
          },
          "execution_count": 43
        }
      ]
    },
    {
      "cell_type": "code",
      "metadata": {
        "id": "fWXKRyl5UIw6",
        "colab_type": "code",
        "colab": {
          "base_uri": "https://localhost:8080/",
          "height": 34
        },
        "outputId": "54f002c9-64cd-4b35-9dc7-cd322b5a14d9"
      },
      "source": [
        "y_test[1047]"
      ],
      "execution_count": 44,
      "outputs": [
        {
          "output_type": "execute_result",
          "data": {
            "text/plain": [
              "0"
            ]
          },
          "metadata": {
            "tags": []
          },
          "execution_count": 44
        }
      ]
    },
    {
      "cell_type": "code",
      "metadata": {
        "id": "6ixQ5pTDldN_",
        "colab_type": "code",
        "colab": {
          "base_uri": "https://localhost:8080/",
          "height": 106
        },
        "outputId": "d10e262a-4b77-4cf7-c66e-2b9222c9158a"
      },
      "source": [
        "keras_file=\"model_tensor\"\n",
        "keras.models.save_model(model,keras_file)"
      ],
      "execution_count": 46,
      "outputs": [
        {
          "output_type": "stream",
          "text": [
            "WARNING:tensorflow:From /usr/local/lib/python3.6/dist-packages/tensorflow/python/ops/resource_variable_ops.py:1817: calling BaseResourceVariable.__init__ (from tensorflow.python.ops.resource_variable_ops) with constraint is deprecated and will be removed in a future version.\n",
            "Instructions for updating:\n",
            "If using Keras pass *_constraint arguments to layers.\n",
            "INFO:tensorflow:Assets written to: model_tensor/assets\n"
          ],
          "name": "stdout"
        }
      ]
    },
    {
      "cell_type": "code",
      "metadata": {
        "id": "k2-Cs8AVnPFP",
        "colab_type": "code",
        "colab": {
          "base_uri": "https://localhost:8080/",
          "height": 34
        },
        "outputId": "6a5f56dc-e658-4cf1-98db-69ca1cba3506"
      },
      "source": [
        "import tensorflow\n",
        "converter = tensorflow.lite.TFLiteConverter.from_saved_model(keras_file)\n",
        "tflite_model=converter.convert()\n",
        "open(\"tflitemodel.tflite\",\"wb\").write(tflite_model)"
      ],
      "execution_count": 48,
      "outputs": [
        {
          "output_type": "execute_result",
          "data": {
            "text/plain": [
              "7136"
            ]
          },
          "metadata": {
            "tags": []
          },
          "execution_count": 48
        }
      ]
    }
  ]
}
